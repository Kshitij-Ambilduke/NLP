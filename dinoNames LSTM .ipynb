{
 "cells": [
  {
   "cell_type": "code",
   "execution_count": 1,
   "metadata": {},
   "outputs": [],
   "source": [
    "import torch.nn as nn\n",
    "import torch.nn.functional as F\n",
    "import torch\n",
    "import numpy as np\n",
    "import torch.optim as optim"
   ]
  },
  {
   "cell_type": "code",
   "execution_count": 2,
   "metadata": {},
   "outputs": [],
   "source": [
    "file = open(\"C:/Users/kshitij/Desktop/NLP/DinoName/names.txt\")\n",
    "names = file.read().split('\\n')\n",
    "\n",
    "for i in range(len(names)):\n",
    "    names[i]=names[i].lower()\n",
    "#     names[i]+='.'\n",
    "\n",
    "# names"
   ]
  },
  {
   "cell_type": "code",
   "execution_count": 3,
   "metadata": {},
   "outputs": [],
   "source": [
    "alphabets = ['.','a','b','c','d','e','f','g','h','i','j','k','l','m','n','o','p','q','r','s','t','u','v','w','x','y','z']\n",
    "one = list(np.zeros((len(alphabets))))\n",
    "alpha_dict={}\n",
    "for n,i in enumerate(alphabets):\n",
    "    one[n]=1\n",
    "    alpha_dict[i] = one\n",
    "    one = list(np.zeros((len(alphabets))))\n",
    "# print(alpha_dict)"
   ]
  },
  {
   "cell_type": "code",
   "execution_count": 4,
   "metadata": {},
   "outputs": [],
   "source": [
    "#name_one_hot_encodings\n",
    "name_list = []\n",
    "for i in names:\n",
    "    name_encoding = []\n",
    "    for j in i:\n",
    "        name_encoding.append(alpha_dict[j])\n",
    "    name_list.append(name_encoding)\n",
    "        \n",
    "for i in range(len(name_list)):\n",
    "    name_list[i]=torch.Tensor(name_list[i])"
   ]
  },
  {
   "cell_type": "code",
   "execution_count": 6,
   "metadata": {
    "collapsed": true
   },
   "outputs": [
    {
     "name": "stdout",
     "output_type": "stream",
     "text": [
      "['aachenosaurus.', 'aardonyx.', 'abdallahsaurus.', 'abelisaurus.', 'abrictosaurus.', 'abrosaurus.', 'abydosaurus.', 'acanthopholis.', 'achelousaurus.', 'acheroraptor.', 'achillesaurus.', 'achillobator.', 'acristavus.', 'acrocanthosaurus.', 'acrotholus.', 'actiosaurus.', 'adamantisaurus.', 'adasaurus.', 'adelolophus.', 'adeopapposaurus.', 'aegyptosaurus.', 'aeolosaurus.', 'aepisaurus.', 'aepyornithomimus.', 'aerosteon.', 'aetonyxafromimus.', 'afrovenator.', 'agathaumas.', 'aggiosaurus.', 'agilisaurus.', 'agnosphitys.', 'agrosaurus.', 'agujaceratops.', 'agustinia.', 'ahshislepelta.', 'airakoraptor.', 'ajancingenia.', 'ajkaceratops.', 'alamosaurus.', 'alaskacephale.', 'albalophosaurus.', 'albertaceratops.', 'albertadromeus.', 'albertavenator.', 'albertonykus.', 'albertosaurus.', 'albinykus.', 'albisaurus.', 'alcovasaurus.', 'alectrosaurus.', 'aletopelta.', 'algoasaurus.', 'alioramus.', 'aliwalia.', 'allosaurus.', 'almas.', 'alnashetri.', 'alocodon.', 'altirhinus.', 'altispinax.', 'alvarezsaurus.', 'alwalkeria.', 'alxasaurus.', 'amargasaurus.', 'amargastegos.', 'amargatitanis.', 'amazonsaurus.', 'ammosaurus.', 'ampelosaurus.', 'amphicoelias.', 'amphicoelicaudia.', 'amphisaurus.', 'amtocephale.', 'amtosaurus.', 'amurosaurus.', 'amygdalodon.', 'anabisetia.', 'anasazisaurus.', 'anatosaurus.', 'anatotitan.', 'anchiceratops.', 'anchiornis.', 'anchisaurus.', 'andesaurus.', 'andhrasaurus.', 'angaturama.', 'angloposeidon.', 'angolatitan.', 'angulomastacator.', 'aniksosaurus.', 'animantarx.', 'ankistrodon.', 'ankylosaurus.', 'anodontosaurus.', 'anoplosaurus.', 'anserimimus.', 'antarctopelta.', 'antarctosaurus.', 'antetonitrus.', 'anthodon.', 'antrodemus.', 'anzu.', 'aoniraptor.', 'aorun.', 'apatodon.', 'apatoraptor.', 'apatosaurus.', 'appalachiosaurus.', 'aquilops.', 'aragosaurus.', 'aralosaurus.', 'araucanoraptor.', 'archaeoceratops.', 'archaeodontosaurus.', 'archaeopteryx.', 'archaeoraptor.', 'archaeornis.', 'archaeornithoides.', 'archaeornithomimus.', 'arcovenator.', 'arctosaurus.', 'arcusaurus.', 'arenysaurus.', 'argentinosaurus.', 'argyrosaurus.', 'aristosaurus.', 'aristosuchus.', 'arizonasaurus.', 'arkansaurus.', 'arkharavia.', 'arrhinoceratops.', 'arstanosaurus.', 'asiaceratops.', 'asiamericana.', 'asiatosaurus.', 'astrodon.', 'astrodonius.', 'astrodontaurus.', 'astrophocaudia.', 'asylosaurus.', 'atacamatitan.', 'atlantosaurus.', 'atlasaurus.', 'atlascopcosaurus.', 'atrociraptor.', 'atsinganosaurus.', 'aublysodon.', 'aucasaurus.', 'augustia.', 'augustynolophus.', 'auroraceratops.', 'aurornis.', 'australodocus.', 'australovenator.', 'austrocheirus.', 'austroposeidon.', 'austroraptor.', 'austrosaurus.', 'avaceratops.', 'avalonia.', 'avalonianus.', 'aviatyrannis.', 'avimimus.', 'avisaurus.', 'avipes.', 'azendohsaurus.', 'bactrosaurus.', 'bagaceratops.', 'bagaraatan.', 'bahariasaurus.', 'bainoceratops.', 'bakesaurus.', 'balaur.', 'balochisaurus.', 'bambiraptor.', 'banji.', 'baotianmansaurus.', 'barapasaurus.', 'barilium.', 'barosaurus.', 'barrosasaurus.', 'barsboldia.', 'baryonyx.', 'bashunosaurus.', 'basutodon.', 'bathygnathus.', 'batyrosaurus.', 'baurutitan.', 'bayosaurus.', 'becklespinax.', 'beelemodon.', 'beibeilong.', 'beipiaognathus.', 'beipiaosaurus.', 'beishanlong.', 'bellusaurus.', 'belodon.', 'berberosaurus.', 'betasuchus.', 'bicentenaria.', 'bienosaurus.', 'bihariosaurus.', 'bilbeyhallorum.', 'bissektipelta.', 'bistahieversor.', 'blancocerosaurus.', 'blasisaurus.', 'blikanasaurus.', 'bolong.', 'bonapartenykus.', 'bonapartesaurus.', 'bonatitan.', 'bonitasaura.', 'borealopelta.', 'borealosaurus.', 'boreonykus.', 'borogovia.', 'bothriospondylus.', 'brachiosaurus.', 'brachyceratops.', 'brachylophosaurus.', 'brachypodosaurus.', 'brachyrophus.', 'brachytaenius.', 'brachytrachelopan.', 'bradycneme.', 'brasileosaurus.', 'brasilotitan.', 'bravoceratops.', 'breviceratops.', 'brohisaurus.', 'brontomerus.', 'brontoraptor.', 'brontosaurus.', 'bruhathkayosaurus.', 'bugenasaura.', 'buitreraptor.', 'burianosaurus.', 'buriolestes.', 'byranjaffia.', 'byronosaurus.', 'caenagnathasia.', 'caenagnathus.', 'calamosaurus.', 'calamospondylus.', 'calamospondylus.', 'callovosaurus.', 'camarasaurus.', 'camarillasaurus.', 'camelotia.', 'camposaurus.', 'camptonotus.', 'camptosaurus.', 'campylodon.', 'campylodoniscus.', 'canardia.', 'capitalsaurus.', 'carcharodontosaurus.', 'cardiodon.', 'carnotaurus.', 'caseosaurus.', 'cathartesaura.', 'cathetosaurus.', 'caudipteryx.', 'caudocoelus.', 'caulodon.', 'cedarosaurus.', 'cedarpelta.', 'cedrorestes.', 'centemodon.', 'centrosaurus.', 'cerasinops.', 'ceratonykus.', 'ceratops.', 'ceratosaurus.', 'cetiosauriscus.', 'cetiosaurus.', 'changchunsaurus.', 'changdusaurus.', 'changyuraptor.', 'chaoyangsaurus.', 'charonosaurus.', 'chasmosaurus.', 'chassternbergia.', 'chebsaurus.', 'chenanisaurus.', 'cheneosaurus.', 'chialingosaurus.', 'chiayusaurus.', 'chienkosaurus.', 'chihuahuasaurus.', 'chilantaisaurus.', 'chilesaurus.', 'chindesaurus.', 'chingkankousaurus.', 'chinshakiangosaurus.', 'chirostenotes.', 'choconsaurus.', 'chondrosteosaurus.', 'chromogisaurus.', 'chuandongocoelurus.', 'chuanjiesaurus.', 'chuanqilong.', 'chubutisaurus.', 'chungkingosaurus.', 'chuxiongosaurus.', 'cinizasaurus.', 'cionodon.', 'citipati.', 'cladeiodon.', 'claorhynchus.', 'claosaurus.', 'clarencea.', 'clasmodosaurus.', 'clepsysaurus.', 'coahuilaceratops.', 'coelophysis.', 'coelosaurus.', 'coeluroides.', 'coelurosauravus.', 'coelurus.', 'colepiocephale.', 'coloradia.', 'coloradisaurus.', 'colossosaurus.', 'comahuesaurus.', 'comanchesaurus.', 'compsognathus.', 'compsosuchus.', 'concavenator.', 'conchoraptor.', 'condorraptor.', 'coronosaurus.', 'corythoraptor.', 'corythosaurus.', 'craspedodon.', 'crataeomus.', 'craterosaurus.', 'creosaurus.', 'crichtonpelta.', 'crichtonsaurus.', 'cristatusaurus.', 'crosbysaurus.', 'cruxicheiros.', 'cryolophosaurus.', 'cryptodraco.', 'cryptoraptor.', 'cryptosaurus.', 'cryptovolans.', 'cumnoria.', 'daanosaurus.', 'dacentrurus.', 'dachongosaurus.', 'daemonosaurus.', 'dahalokely.', 'dakosaurus.', 'dakotadon.', 'dakotaraptor.', 'daliansaurus.', 'damalasaurus.', 'dandakosaurus.', 'danubiosaurus.', 'daptosaurus.', 'darwinsaurus.', 'dashanpusaurus.', 'daspletosaurus.', 'dasygnathoides.', 'dasygnathus.', 'datanglong.', 'datonglong.', 'datousaurus.', 'daurosaurus.', 'daxiatitan.', 'deinocheirus.', 'deinodon.', 'deinonychus.', 'delapparentia.', 'deltadromeus.', 'demandasaurus.', 'denversaurus.', 'deuterosaurus.', 'diabloceratops.', 'diamantinasaurus.', 'dianchungosaurus.', 'diceratops.', 'diceratusdiclonius.', 'dicraeosaurus.', 'didanodondilong.', 'dilophosaurus.', 'diluvicursor.', 'dimodosaurus.', 'dinheirosaurus.', 'dinodocus.', 'dinotyrannus.', 'diplodocus.', 'diplotomodon.', 'diracodon.', 'dolichosuchus.', 'dollodon.', 'domeykosaurus.', 'dongbeititan.', 'dongyangopelta.', 'dongyangosaurus.', 'doratodon.', 'doryphorosaurus.', 'draconyx.', 'dracopelta.', 'dracoraptor.', 'dracorex.', 'dracovenator.', 'dravidosaurus.', 'dreadnoughtus.', 'drinker.', 'dromaeosauroides.', 'dromaeosaurus.', 'dromiceiomimus.', 'dromicosaurus.', 'drusilasaura.', 'dryosaurus.', 'dryptosauroides.', 'dryptosaurus.', 'dubreuillosaurus.', 'duriatitan.', 'duriavenator.', 'dynamosaurus.', 'dyoplosaurus.', 'dysalotosaurus.', 'dysganus.', 'dyslocosaurus.', 'dystrophaeus.', 'dystylosaurus.', 'echinodon.', 'edmarka.', 'edmontonia.', 'edmontosaurus.', 'efraasia.', 'einiosaurus.', 'ekrixinatosaurus.', 'elachistosuchus.', 'elaltitan.', 'elaphrosaurus.', 'elmisaurus.', 'elopteryx.', 'elosaurus.', 'elrhazosaurus.', 'elvisaurus.', 'emausaurus.', 'embasaurus.', 'enigmosaurus.', 'eoabelisaurus.', 'eobrontosaurus.', 'eocarcharia.', 'eoceratops.', 'eocursor.', 'eodromaeus.', 'eohadrosaurus.', 'eolambia.', 'eomamenchisaurus.', 'eoplophysis.', 'eoraptor.', 'eosinopteryx.', 'eotrachodon.', 'eotriceratops.', 'eotyrannus.', 'eousdryosaurus.', 'epachthosaurus.', 'epanterias.', 'ephoenosaurus.', 'epicampodon.', 'epichirostenotes.', 'epidendrosaurus.', 'epidexipteryx.', 'equijubus.', 'erectopus.', 'erketu.', 'erliansaurus.', 'erlikosaurus.', 'eshanosaurus.', 'euacanthus.', 'eucamerotus.', 'eucentrosaurus.', 'eucercosaurus.', 'eucnemesaurus.', 'eucoelophysis.', 'eugongbusaurus.', 'euhelopus.', 'euoplocephalus.', 'eupodosaurus.', 'eureodon.', 'eurolimnornis.', 'euronychodon.', 'europasaurus.', 'europatitan.', 'europelta.', 'euskelosaurus.', 'eustreptospondylus.', 'fabrosaurus.', 'falcarius.', 'fendusaurus.', 'fenestrosaurus.', 'ferganasaurus.', 'ferganastegos.', 'ferganocephale.', 'foraminacephale.', 'fosterovenator.', 'frenguellisaurus.', 'fruitadens.', 'fukuiraptor.', 'fukuisaurus.', 'fukuititan.', 'fukuivenator.', 'fulengia.', 'fulgurotherium.', 'fusinasus.', 'fusuisaurus.', 'futabasaurus.', 'futalognkosaurus.', 'gadolosaurus.', 'galeamopus.', 'galesaurus.', 'gallimimus.', 'galtonia.', 'galveosaurus.', 'galvesaurus.', 'gannansaurus.', 'gansutitan.', 'ganzhousaurus.', 'gargoyleosaurus.', 'garudimimus.', 'gasosaurus.', 'gasparinisaura.', 'gastonia.', 'gavinosaurus.', 'geminiraptor.', 'genusaurus.', 'genyodectes.', 'geranosaurus.', 'gideonmantellia.', 'giganotosaurus.', 'gigantoraptor.', 'gigantosaurus.', 'gigantosaurus.', 'gigantoscelus.', 'gigantspinosaurus.', 'gilmoreosaurus.', 'ginnareemimus.', 'giraffatitan.', 'glacialisaurus.', 'glishades.', 'glyptodontopelta.', 'skeleton.', 'gobiceratops.', 'gobisaurus.', 'gobititan.', 'gobivenator.', 'godzillasaurus.', 'gojirasaurus.', 'gondwanatitan.', 'gongbusaurus.', 'gongpoquansaurus.', 'gongxianosaurus.', 'gorgosaurus.', 'goyocephale.', 'graciliceratops.', 'graciliraptor.', 'gracilisuchus.', 'gravitholus.', 'gresslyosaurus.', 'griphornis.', 'griphosaurus.', 'gryphoceratops.', 'gryponyx.', 'gryposaurus.', 'gspsaurus.', 'guaibasaurus.', 'gualicho.', 'guanlong.', 'gwyneddosaurus.', 'gyposaurus.', 'hadrosauravus.', 'hadrosaurus.', 'haestasaurus.', 'hagryphus.', 'hallopus.', 'halszkaraptor.', 'halticosaurus.', 'hanssuesia.', 'hanwulosaurus.', 'haplocanthosaurus.', 'haplocanthus.', 'haplocheirus.', 'harpymimus.', 'haya.', 'hecatasaurus.', 'heilongjiangosaurus.', 'heishansaurus.', 'helioceratops.', 'helopus.', 'heptasteornis.', 'herbstosaurus.', 'herrerasaurus.', 'hesperonychus.', 'hesperosaurus.', 'heterodontosaurus.', 'heterosaurus.', 'hexing.', 'hexinlusaurus.', 'heyuannia.', 'hierosaurus.', 'hippodraco.', 'hironosaurus.', 'hisanohamasaurus.', 'histriasaurus.', 'homalocephale.', 'honghesaurus.', 'hongshanosaurus.', 'hoplitosaurus.', 'hoplosaurus.', 'horshamosaurus.', 'hortalotarsus.', 'huabeisaurus.', 'hualianceratops.', 'huanansaurus.', 'huanghetitan.', 'huangshanlong.', 'huaxiagnathus.', 'huaxiaosaurus.', 'huaxiasaurus.', 'huayangosaurus.', 'hudiesaurus.', 'huehuecanauhtlus.', 'hulsanpes.', 'hungarosaurus.', 'huxleysaurus.', 'hylaeosaurus.', 'hylosaurushypacrosaurus.', 'hypselorhachis.', 'hypselosaurus.', 'hypselospinus.', 'hypsibema.', 'hypsilophodon.', 'hypsirhophus.', 'habodcraniosaurus.', 'ichthyovenator.', 'ignavusaurus.', 'iguanacolossus.', 'iguanodon.', 'iguanoides.', 'skeleton.', 'iguanosaurus.', 'iliosuchus.', 'ilokelesia.', 'incisivosaurus.', 'indosaurus.', 'indosuchus.', 'ingenia.', 'inosaurus.', 'irritator.', 'isaberrysaura.', 'isanosaurus.', 'ischioceratops.', 'ischisaurus.', 'ischyrosaurus.', 'isisaurus.', 'issasaurus.', 'itemirus.', 'iuticosaurus.', 'jainosaurus.', 'jaklapallisaurus.', 'janenschia.', 'jaxartosaurus.', 'jeholosaurus.', 'jenghizkhan.', 'jensenosaurus.', 'jeyawati.', 'jianchangosaurus.', 'jiangjunmiaosaurus.', 'jiangjunosaurus.', 'jiangshanosaurus.', 'jiangxisaurus.', 'jianianhualong.', 'jinfengopteryx.', 'jingshanosaurus.', 'jintasaurus.', 'jinzhousaurus.', 'jiutaisaurus.', 'jobaria.', 'jubbulpuria.', 'judiceratops.', 'jurapteryx.', 'jurassosaurus.', 'juratyrant.', 'juravenator.', 'kagasaurus.', 'kaijiangosaurus.', 'kakuru.', 'kangnasaurus.', 'karongasaurus.', 'katepensaurus.', 'katsuyamasaurus.', 'kayentavenator.', 'kazaklambia.', 'kelmayisaurus.', 'kemkemiakentrosaurus.', 'kentrurosaurus.', 'kerberosaurus.', 'kentrosaurus.', 'khaan.', 'khetranisaurus.', 'kileskus.', 'kinnareemimus.', 'kitadanisaurus.', 'kittysaurus.', 'klamelisauruskol.', 'koparion.', 'koreaceratops.', 'koreanosaurus.', 'koreanosaurus.', 'koshisaurus.', 'kosmoceratops.', 'kotasaurus.', 'koutalisaurus.', 'kritosaurus.', 'kryptops.', 'krzyzanowskisaurus.', 'kukufeldia.', 'kulceratops.', 'kulindadromeus.', 'kulindapteryx.', 'kunbarrasaurus.', 'kundurosaurus.', 'kunmingosaurus.', 'kuszholia.', 'labocania.', 'labrosaurus.', 'laelaps.', 'laevisuchus.', 'lagerpeton.', 'lagosuchus.', 'laiyangosaurus.', 'lamaceratops.', 'lambeosaurus.', 'lametasaurus.', 'lamplughsaura.', 'lanasaurus.', 'lancangosaurus.', 'lancanjiangosaurus.', 'lanzhousaurus.', 'laosaurus.', 'lapampasaurus.', 'laplatasaurus.', 'lapparentosaurus.', 'laquintasaura.', 'latenivenatrix.', 'latirhinus.', 'leaellynasaura.', 'leinkupal.', 'leipsanosaurus.', 'lengosaurus.', 'leonerasaurus.', 'lepidocheirosaurus.', 'lepidus.', 'leptoceratops.', 'leptorhynchos.', 'leptospondylus.', 'leshansaurus.', 'lesothosaurus.', 'lessemsaurus.', 'levnesovia.', 'lewisuchus.', 'lexovisaurus.', 'leyesaurus.', 'liaoceratops.', 'liaoningosaurus.', 'liaoningtitan.', 'liaoningvenator.', 'liassaurus.', 'libycosaurus.', 'ligabueino.', 'ligabuesaurus.', 'ligomasaurus.', 'likhoelesaurus.', 'liliensternus.', 'limaysaurus.', 'limnornis.', 'limnosaurus.', 'limusaurus.', 'linhenykus.', 'linheraptor.', 'linhevenator.', 'lirainosaurus.', 'lisboasaurusliubangosaurus.', 'lohuecotitan.', 'loncosaurus.', 'longisquama.', 'longosaurus.', 'lophorhothon.', 'lophostropheus.', 'loricatosaurus.', 'loricosaurus.', 'losillasaurus.', 'lourinhanosaurus.', 'lourinhasaurus.', 'luanchuanraptor.', 'luanpingosaurus.', 'lucianosaurus.', 'lucianovenator.', 'lufengosaurus.', 'lukousaurus.', 'luoyanggia.', 'lurdusaurus.', 'lusitanosaurus.', 'lusotitan.', 'lycorhinus.', 'lythronax.', 'macelognathus.', 'machairasaurus.', 'machairoceratops.', 'macrodontophion.', 'macrogryphosaurus.', 'macrophalangia.', 'macroscelosaurus.', 'macrurosaurus.', 'madsenius.', 'magnapaulia.', 'magnamanus.', 'magnirostris.', 'magnosaurus.', 'magulodon.', 'magyarosaurus.', 'mahakala.', 'maiasaura.', 'majungasaurus.', 'majungatholus.', 'malarguesaurus.', 'malawisaurus.', 'maleevosaurus.', 'maleevus.', 'mamenchisaurus.', 'manidens.', 'mandschurosaurus.', 'manospondylus.', 'mantellisaurus.', 'mantellodon.', 'mapusaurus.', 'marasuchus.', 'marisaurus.', 'marmarospondylus.', 'marshosaurus.', 'martharaptor.', 'masiakasaurus.', 'massospondylus.', 'matheronodon.', 'maxakalisaurus.', 'medusaceratops.', 'megacervixosaurus.', 'megadactylus.', 'megadontosaurus.', 'megalosaurus.', 'megapnosaurus.', 'megaraptor.', 'mei.', 'melanorosaurus.', 'mendozasaurus.', 'mercuriceratops.', 'meroktenos.', 'metriacanthosaurus.', 'microcephale.', 'microceratops.', 'microceratus.', 'microcoelus.', 'microdontosaurus.', 'microhadrosaurus.', 'micropachycephalosaurus.', 'microraptor.', 'microvenator.', 'mierasaurus.', 'mifunesaurus.', 'minmi.', 'minotaurasaurus.', 'miragaia.', 'mirischia.', 'moabosaurus.', 'mochlodon.', 'mohammadisaurus.', 'mojoceratops.', 'mongolosaurus.', 'monkonosaurus.', 'monoclonius.', 'monolophosaurus.', 'mononychus.', 'mononykus.', 'montanoceratops.', 'morelladon.', 'morinosaurus.', 'morosaurus.', 'morrosaurus.', 'mosaiceratops.', 'moshisaurus.', 'mtapaiasaurus.', 'mtotosaurus.', 'murusraptor.', 'mussaurus.', 'muttaburrasaurus.', 'muyelensaurus.', 'mymoorapelta.', 'naashoibitosaurus.', 'nambalia.', 'nankangia.', 'nanningosaurus.', 'nanosaurus.', 'nanotyrannus.', 'nanshiungosaurus.', 'nanuqsaurus.', 'nanyangosaurus.', 'narambuenatitan.', 'nasutoceratops.', 'natronasaurus.', 'nebulasaurus.', 'nectosaurus.', 'nedcolbertia.', 'nedoceratops.', 'neimongosaurus.', 'nemegtia.', 'nemegtomaia.', 'nemegtosaurus.', 'neosaurus.', 'neosodon.', 'neovenator.', 'neuquenraptor.', 'neuquensaurus.', 'newtonsaurus.', 'ngexisaurus.', 'nicksaurus.', 'nigersaurus.', 'ningyuansaurus.', 'niobrarasaurus.', 'nipponosaurus.', 'noasaurus.', 'nodocephalosaurus.', 'nodosaurus.', 'nomingia.', 'nopcsaspondylus.', 'normanniasaurus.', 'nothronychus.', 'notoceratops.', 'notocolossus.', 'notohypsilophodon.', 'nqwebasaurus.', 'nteregosaurus.', 'nurosaurus.', 'nuthetes.', 'nyasasaurus.', 'nyororosaurus.', 'ohmdenosaurus.', 'ojoceratops.', 'ojoraptorsaurus.', 'oligosaurus.', 'olorotitan.', 'omeisaurus.', 'omosaurus.', 'onychosaurus.', 'oohkotokia.', 'opisthocoelicaudia.', 'oplosaurus.', 'orcomimus.', 'orinosaurusorkoraptor.', 'ornatotholusornithodesmus.', 'ornithoides.', 'ornitholestes.', 'ornithomerus.', 'ornithomimoides.', 'ornithomimus.', 'ornithopsis.', 'ornithosuchus.', 'ornithotarsus.', 'orodromeus.', 'orosaurus.', 'orthogoniosaurus.', 'orthomerus.', 'oryctodromeus.', 'oshanosaurus.', 'osmakasaurus.', 'ostafrikasaurus.', 'ostromia.', 'othnielia.', 'othnielosaurus.', 'otogosaurus.', 'ouranosaurus.', 'overosaurus.', 'oviraptor.', 'ovoraptor.', 'owenodon.', 'oxalaia.', 'ozraptor.', 'pachycephalosaurus.', 'pachyrhinosaurus.', 'pachysauriscus.', 'pachysaurops.', 'pachysaurus.', 'pachyspondylus.', 'pachysuchus.', 'padillasaurus.', 'pakisaurus.', 'palaeoctonus.', 'palaeocursornis.', 'palaeolimnornis.', 'palaeopteryx.', 'palaeosauriscus.', 'palaeosaurus.', 'palaeosaurus.', 'palaeoscincus.', 'paleosaurus.', 'paludititan.', 'paluxysaurus.', 'pampadromaeus.', 'pamparaptor.', 'panamericansaurus.', 'pandoravenator.', 'panguraptor.', 'panoplosaurus.', 'panphagia.', 'pantydraco.', 'paraiguanodon.', 'paralititan.', 'paranthodon.', 'pararhabdodon.', 'parasaurolophus.', 'pareiasaurus.', 'parksosaurus.', 'paronychodon.', 'parrosaurus.', 'parvicursor.', 'patagonykus.', 'patagosaurus.', 'patagotitan.', 'pawpawsaurus.', 'pectinodon.', 'pedopenna.', 'pegomastax.', 'peishansaurus.', 'pekinosaurus.', 'pelecanimimus.', 'pellegrinisaurus.', 'peloroplites.', 'pelorosaurus.', 'peltosaurus.', 'penelopognathus.', 'pentaceratops.', 'petrobrasaurus.', 'phaedrolosaurus.', 'philovenator.', 'phuwiangosaurus.', 'phyllodon.', 'piatnitzkysaurus.', 'picrodon.', 'pinacosaurus.', 'pisanosaurus.', 'pitekunsaurus.', 'piveteausaurus.', 'planicoxa.', 'plateosauravus.', 'plateosaurus.', 'platyceratops.', 'plesiohadros.', 'pleurocoelus.', 'pleuropeltus.', 'pneumatoarthrus.', 'pneumatoraptor.', 'podokesaurus.', 'poekilopleuron.', 'polacanthoides.', 'polacanthus.', 'polyodontosaurus.', 'polyonax.', 'ponerosteus.', 'poposaurus.', 'parasaurolophus.', 'postosuchus.', 'powellvenator.', 'pradhania.', 'prenocephale.', 'prenoceratops.', 'priconodon.', 'priodontognathus.', 'proa.', 'probactrosaurus.', 'probrachylophosaurus.', 'proceratops.', 'proceratosaurus.', 'procerosaurus.', 'procerosaurus.', 'procheneosaurus.', 'procompsognathus.', 'prodeinodon.', 'proiguanodon.', 'propanoplosaurus.', 'proplanicoxa.', 'prosaurolophus.', 'protarchaeopteryx.', 'protecovasaurus.', 'protiguanodon.', 'protoavis.', 'protoceratops.', 'protognathosaurus.', 'protognathus.', 'protohadros.', 'protorosaurus.', 'protorosaurus.', 'protrachodon.', 'proyandusaurus.', 'pseudolagosuchus.', 'psittacosaurus.', 'pteropelyx.', 'pterospondylus.', 'puertasaurus.', 'pukyongosaurus.', 'pulanesaura.', 'pycnonemosaurus.', 'pyroraptor.', 'qantassaurus.', 'qianzhousaurus.', 'qiaowanlong.', 'qijianglong.', 'qinlingosaurus.', 'qingxiusaurus.', 'qiupalong.', 'quaesitosaurus.', 'quetecsaurus.', 'quilmesaurus.', 'rachitrema.', 'rahiolisaurus.', 'rahona.', 'rahonavis.', 'rajasaurus.', 'rapator.', 'rapetosaurus.', 'raptorex.', 'ratchasimasaurus.', 'rativates.', 'rayososaurus.', 'razanandrongobe.', 'rebbachisaurus.', 'regaliceratops.', 'regnosaurus.', 'revueltosaurus.', 'rhabdodon.', 'rhadinosaurus.', 'rhinorex.', 'rhodanosaurus.', 'rhoetosaurus.', 'rhopalodon.', 'riabininohadros.', 'richardoestesia.', 'rileya.', 'rileyasuchus.', 'rinchenia.', 'rinconsaurus.', 'rioarribasaurus.', 'riodevasaurus.', 'riojasaurus.', 'riojasuchus.', 'rocasaurus.', 'roccosaurus.', 'rubeosaurus.', 'ruehleia.', 'rugocaudia.', 'rugops.', 'rukwatitan.', 'ruyangosaurus.', 'sacisaurus.', 'sahaliyania.', 'saichania.', 'saldamosaurus.', 'salimosaurus.', 'saltasaurus.', 'saltopus.', 'saltriosaurus.', 'sanchusaurus.', 'sangonghesaurus.', 'sanjuansaurus.', 'sanpasaurus.', 'santanaraptor.', 'saraikimasoom.', 'sarahsaurus.', 'sarcolestes.', 'sarcosaurus.', 'sarmientosaurus.', 'saturnalia.', 'sauraechinodon.', 'saurolophus.', 'sauroniops.', 'sauropelta.', 'saurophaganax.', 'saurophagus.', 'sauroplites.', 'sauroposeidon.', 'saurornithoides.', 'saurornitholestes.', 'savannasaurus.', 'scansoriopteryx.', 'scaphonyx.', 'scelidosaurus.', 'scipionyx.', 'sciurumimus.', 'scleromochlus.', 'scolosaurus.', 'scutellosaurus.', 'secernosaurus.', 'sefapanosaurus.', 'segisaurus.', 'segnosaurus.', 'seismosaurus.', 'seitaad.', 'selimanosaurus.', 'sellacoxa.', 'sellosaurus.', 'serendipaceratops.', 'serikornis.', 'shamosaurus.', 'shanag.', 'shanshanosaurus.', 'shantungosaurus.', 'shanxia.', 'shanyangosaurus.', 'shaochilong.', 'shenzhousaurus.', 'shidaisaurus.', 'shingopana.', 'shixinggia.', 'shuangbaisaurus.', 'shuangmiaosaurus.', 'shunosaurus.', 'shuvosaurus.', 'shuvuuia.', 'siamodon.', 'siamodracon.', 'siamosaurus.', 'siamotyrannus.', 'siats.', 'sibirosaurus.', 'sibirotitan.', 'sidormimus.', 'sigilmassasaurus.', 'silesaurus.', 'siluosaurus.', 'silvisaurus.', 'similicaudipteryx.', 'sinocalliopteryx.', 'sinoceratops.', 'sinocoelurus.', 'sinopelta.', 'sinopeltosaurus.', 'sinornithoides.', 'sinornithomimus.', 'sinornithosaurus.', 'sinosauropteryx.', 'sinosaurus.', 'sinotyrannus.', 'sinovenator.', 'sinraptor.', 'sinusonasus.', 'sirindhorna.', 'skorpiovenator.', 'smilodon.', 'sonidosaurus.', 'sonorasaurus.', 'soriatitan.', 'sphaerotholus.', 'sphenosaurus.', 'sphenospondylus.', 'spiclypeus.', 'spinophorosaurus.', 'spinops.', 'spinosaurus.', 'spinostropheus.', 'spinosuchus.', 'spondylosoma.', 'squalodon.', 'staurikosaurus.', 'stegoceras.', 'stegopelta.', 'stegosaurides.', 'stegosaurus.', 'stenonychosaurus.', 'stenopelix.', 'stenotholus.', 'stephanosaurus.', 'stereocephalus.', 'sterrholophus.', 'stokesosaurus.', 'stormbergia.', 'strenusaurus.', 'streptospondylus.', 'struthiomimus.', 'struthiosaurus.', 'stygimoloch.', 'stygivenator.', 'styracosaurus.', 'succinodon.', 'suchomimus.', 'suchosaurus.', 'suchoprion.', 'sugiyamasaurus.', 'skeleton.', 'sulaimanisaurus.', 'supersaurus.', 'suuwassea.', 'suzhousaurus.', 'symphyrophus.', 'syngonosaurus.', 'syntarsus.', 'syrmosaurus.', 'szechuanosaurus.', 'tachiraptor.', 'talarurus.', 'talenkauen.', 'talos.', 'tambatitanis.', 'tangvayosaurus.', 'tanius.', 'tanycolagreus.', 'tanystropheus.', 'tanystrosuchus.', 'taohelong.', 'tapinocephalus.', 'tapuiasaurus.', 'tarascosaurus.', 'tarbosaurus.', 'tarchia.', 'tastavinsaurus.', 'tatankacephalus.', 'tatankaceratops.', 'tataouinea.', 'tatisaurus.', 'taurovenator.', 'taveirosaurus.', 'tawa.', 'tawasaurus.', 'tazoudasaurus.', 'technosaurus.', 'tecovasaurus.', 'tehuelchesaurus.', 'teihivenator.', 'teinurosaurus.', 'teleocrater.', 'telmatosaurus.', 'tenantosaurus.', 'tenchisaurus.', 'tendaguria.', 'tengrisaurus.', 'tenontosaurus.', 'teratophoneus.', 'teratosaurus.', 'termatosaurus.', 'tethyshadros.', 'tetragonosaurus.', 'texacephale.', 'texasetes.', 'teyuwasu.', 'thecocoelurus.', 'thecodontosaurus.', 'thecospondylus.', 'theiophytalia.', 'therizinosaurus.', 'therosaurus.', 'thescelosaurus.', 'thespesius.', 'thotobolosaurus.', 'tianchisaurus.', 'tianchungosaurus.', 'tianyulong.', 'tianyuraptor.', 'tianzhenosaurus.', 'tichosteus.', 'tienshanosaurus.', 'timimus.', 'timurlengia.', 'titanoceratops.', 'titanosaurus.', 'titanosaurus.', 'tochisaurus.', 'tomodon.', 'tonganosaurus.', 'tongtianlong.', 'tonouchisaurus.', 'torilion.', 'tornieria.', 'torosaurus.', 'torvosaurus.', 'tototlmimus.', 'trachodon.', 'traukutitan.', 'trialestes.', 'triassolestes.', 'tribelesodon.', 'triceratops.', 'trigonosaurus.', 'trimucrodon.', 'trinisaura.', 'triunfosaurus.', 'troodon.', 'tsaagan.', 'tsagantegia.', 'tsintaosaurus.', 'tugulusaurus.', 'tuojiangosaurus.', 'turanoceratops.', 'turiasaurus.', 'tylocephale.', 'tylosteus.', 'tyrannosaurus.', 'tyrannotitan.', 'illustration.', 'uberabatitan.', 'udanoceratops.', 'ugrosaurus.', 'ugrunaaluk.', 'uintasaurus.', 'ultrasauros.', 'ultrasaurus.', 'ultrasaurus.', 'umarsaurus.', 'unaysaurus.', 'unenlagia.', 'unescoceratops.', 'unicerosaurus.', 'unquillosaurus.', 'urbacodon.', 'utahceratops.', 'utahraptor.', 'uteodon.', 'vagaceratops.', 'vahiny.', 'valdoraptor.', 'valdosaurus.', 'variraptor.', 'velociraptor.', 'vectensia.', 'vectisaurus.', 'velafrons.', 'velocipes.', 'velociraptor.', 'velocisaurus.', 'venaticosuchus.', 'venenosaurus.', 'veterupristisaurus.', 'viavenator.', 'vitakridrinda.', 'vitakrisaurus.', 'volkheimeria.', 'vouivria.', 'vulcanodon.', 'wadhurstia.', 'wakinosaurus.', 'walgettosuchus.', 'walkeria.', 'walkersaurus.', 'wangonisaurus.', 'wannanosaurus.', 'wellnhoferia.', 'wendiceratops.', 'wiehenvenator.', 'willinakaqe.', 'wintonotitan.', 'wuerhosaurus.', 'wulagasaurus.', 'wulatelong.', 'wyleyia.', 'wyomingraptor.', 'xenoceratops.', 'xenoposeidon.', 'xenotarsosaurus.', 'xianshanosaurus.', 'xiaosaurus.', 'xingxiulong.', 'xinjiangovenator.', 'xinjiangtitan.', 'xiongguanlong.', 'xixianykus.', 'xixiasaurus.', 'xixiposaurus.', 'xuanhanosaurus.', 'xuanhuaceratops.', 'xuanhuasaurus.', 'xuwulong.', 'yaleosaurus.', 'yamaceratops.', 'yandusaurus.', 'yangchuanosaurus.', 'yaverlandia.', 'yehuecauhceratops.', 'yezosaurus.', 'yibinosaurus.', 'yimenosaurus.', 'yingshanosaurus.', 'yinlong.', 'yixianosaurus.', 'yizhousaurus.', 'yongjinglong.', 'yuanmouraptor.', 'yuanmousaurus.', 'yueosaurus.', 'yulong.', 'yunganglong.', 'yunmenglong.', 'yunnanosaurus.', 'yunxianosaurus.', 'yurgovuchia.', 'yutyrannus.', 'zanabazar.', 'zanclodon.', 'zapalasaurus.', 'zapsalis.', 'zaraapelta.', 'zatomuszby.', 'zephyrosaurus.', 'zhanghenglong.', 'zhejiangosaurus.', 'zhenyuanlong.', 'zhongornis.', 'zhongjianosaurus.', 'zhongyuansaurus.', 'zhuchengceratops.', 'zhuchengosaurus.', 'zhuchengtitan.', 'zhuchengtyrannus.', 'ziapelta.', 'zigongosaurus.', 'zizhongosaurus.', 'zuniceratops.', 'zunityrannus.', 'zuolong.', 'zuoyunlong.', 'zupaysaurus.', 'zuul.']\n"
     ]
    }
   ],
   "source": [
    "file = open(\"C:/Users/kshitij/Desktop/NLP/DinoName/names.txt\")\n",
    "names = file.read().split('\\n')\n",
    "\n",
    "for i in range(len(names)):\n",
    "    names[i]=names[i].lower()\n",
    "    names[i]+='.'\n",
    "print(names)"
   ]
  },
  {
   "cell_type": "code",
   "execution_count": 7,
   "metadata": {},
   "outputs": [],
   "source": [
    "#target_encodings\n",
    "alpha = {'a':1,'b':2,'c':3,'d':4,'e':5,'f':6,'g':7,'h':8,'i':9,'j':10,'k':11,'l':12,'m':13,'n':14,'o':15,'p':16,'q':17,'r':18,'s':19,'t':20,'u':21,'v':22,'w':23,'x':24,'y':25,'z':26,'.':0}\n",
    "target_list = []\n",
    "for i in names:\n",
    "    target_encoding = []\n",
    "    for j in i[1:]:\n",
    "        target_encoding.append(alpha[j])\n",
    "    target_list.append(target_encoding)\n",
    "\n",
    "for i in range(len(target_list)):\n",
    "    target_list[i]=torch.Tensor(target_list[i]).long()"
   ]
  },
  {
   "cell_type": "code",
   "execution_count": 24,
   "metadata": {},
   "outputs": [],
   "source": [
    "class RNN(nn.Module):\n",
    "\n",
    "    def __init__(self,input_size, hidden_size, output_size):\n",
    "        self.hidden_size = hidden_size\n",
    "        super().__init__()\n",
    "        self.lstm = nn.LSTM(input_size, hidden_size,batch_first=True)\n",
    "        self.fc1 = nn.Linear(hidden_size, hidden_size) \n",
    "        self.fc2 = nn.Linear(hidden_size, output_size)\n",
    "      \n",
    "    def forward(self, x, h0, c0):\n",
    "        x,a = self.lstm(x, (h0, c0))\n",
    "        h, c = a\n",
    "        x = torch.tanh(x)\n",
    "        x = self.fc1(x)\n",
    "        x = torch.tanh(x)\n",
    "        x = self.fc2(x)\n",
    "        return x,(h,c)        \n",
    "        \n",
    "\n",
    "    def initHidden(self):\n",
    "        return (torch.zeros(1,1,self.hidden_size),torch.zeros(1,1,self.hidden_size))\n",
    "    \n",
    "\n"
   ]
  },
  {
   "cell_type": "code",
   "execution_count": 25,
   "metadata": {},
   "outputs": [
    {
     "name": "stdout",
     "output_type": "stream",
     "text": [
      "RNN(\n",
      "  (lstm): LSTM(27, 50, batch_first=True)\n",
      "  (fc1): Linear(in_features=50, out_features=50, bias=True)\n",
      "  (fc2): Linear(in_features=50, out_features=27, bias=True)\n",
      ")\n"
     ]
    }
   ],
   "source": [
    "input_size = 27\n",
    "hidden_size = 50\n",
    "output_size = 27\n",
    "learning_rate = 0.001\n",
    "model = RNN(27,50,27)\n",
    "criterion = nn.CrossEntropyLoss()\n",
    "optimizer = optim.Adam(model.parameters(),lr=learning_rate)\n",
    "print(model)"
   ]
  },
  {
   "cell_type": "code",
   "execution_count": 28,
   "metadata": {},
   "outputs": [
    {
     "name": "stdout",
     "output_type": "stream",
     "text": [
      "1  :  1.4798109440210585\n",
      "2  :  1.457504674481849\n",
      "3  :  1.4365583572071046\n"
     ]
    }
   ],
   "source": [
    "for epochs in range(3):\n",
    "    e=0\n",
    "    for i in range(len(name_list)):\n",
    "        optimizer.zero_grad()\n",
    "        model.zero_grad()\n",
    "        h,c = model.initHidden()\n",
    "        x = name_list[i]\n",
    "        x = x.unsqueeze(0)\n",
    "        y = target_list[i]\n",
    "        out,_ = model.forward(x,h,c)\n",
    "        out = out.view(-1,output_size)\n",
    "        loss = criterion(out, y)\n",
    "        loss.backward()\n",
    "        e+=loss.item()\n",
    "        optimizer.step()\n",
    "    print(epochs+1,' : ',e/len(name_list))"
   ]
  },
  {
   "cell_type": "code",
   "execution_count": 29,
   "metadata": {},
   "outputs": [
    {
     "name": "stdout",
     "output_type": "stream",
     "text": [
      "\n",
      ".ngosaurus.\n",
      "agangosaurus.\n",
      "broceratops.\n",
      "cenosaurus.\n",
      "dinosaurus.\n",
      "eatosaurus.\n",
      "flangosaurus.\n",
      "gngosaurus.\n",
      "hngong.\n",
      "iosaurus.\n",
      "jangangosaurus.\n",
      "kltong.\n",
      "lnosaurus.\n",
      "mnosaurus.\n",
      "npelton.\n",
      "onithongx.\n",
      "poconosaurus.\n",
      "qangnosaurus.\n",
      "rptoraptor.\n",
      "sronosaurus.\n",
      "tngangosaurus.\n",
      "uanosaurus.\n",
      "vnopelta.\n",
      "wlanosaurus.\n",
      "xngosaurus.\n",
      "yngangosaurus.\n",
      "zongosaurus."
     ]
    }
   ],
   "source": [
    "alpha = {'a':1,'b':2,'c':3,'d':4,'e':5,'f':6,'g':7,'h':8,'i':9,'j':10,'k':11,'l':12,'m':13,'n':14,'o':15,'p':16,'q':17,'r':18,'s':19,'t':20,'u':21,'v':22,'w':23,'x':24,'y':25,'z':26,'.':0}\n",
    "letter = ['.','a','b','c','d','e','f','g','h','i','j','k','l','m','n','o','p','q','r','s','t','u','v','w','x','y','z']\n",
    "digits = list(alpha.values())\n",
    "with torch.no_grad():\n",
    "    for n,i in enumerate(alpha_dict):\n",
    "        h,c = model.initHidden()\n",
    "        print()\n",
    "        lis=[]\n",
    "        lis.append(n)\n",
    "        x = torch.Tensor(alpha_dict[i])\n",
    "        x = x.view(1,1,-1)\n",
    "        output,state = model.forward(x,h,c)\n",
    "        h, c = state\n",
    "        output = F.softmax(output,dim=2)\n",
    "        et = torch.argmax(output)\n",
    "#         print(et)\n",
    "        x = torch.zeros(x.shape)\n",
    "        x[0,0,et] = 1\n",
    "        while et!=0:\n",
    "            output,state = model.forward(x,h,c)\n",
    "            h,c = state\n",
    "            output = F.softmax(output,dim=2)\n",
    "            et = torch.argmax(output)\n",
    "            x = torch.zeros(x.shape)\n",
    "            x[0,0,et] = 1\n",
    "            lis.append(et)\n",
    "#         print(lis)\n",
    "        for k in lis:\n",
    "            print(letter[k],end='')\n",
    "        "
   ]
  },
  {
   "cell_type": "code",
   "execution_count": null,
   "metadata": {},
   "outputs": [],
   "source": []
  }
 ],
 "metadata": {
  "kernelspec": {
   "display_name": "Python 3",
   "language": "python",
   "name": "python3"
  },
  "language_info": {
   "codemirror_mode": {
    "name": "ipython",
    "version": 3
   },
   "file_extension": ".py",
   "mimetype": "text/x-python",
   "name": "python",
   "nbconvert_exporter": "python",
   "pygments_lexer": "ipython3",
   "version": "3.7.6"
  }
 },
 "nbformat": 4,
 "nbformat_minor": 4
}
