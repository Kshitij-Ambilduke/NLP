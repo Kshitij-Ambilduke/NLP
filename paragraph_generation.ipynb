{
  "nbformat": 4,
  "nbformat_minor": 0,
  "metadata": {
    "colab": {
      "name": "paragraph generation.ipynb",
      "provenance": [],
      "collapsed_sections": []
    },
    "kernelspec": {
      "display_name": "Python 3",
      "name": "python3"
    }
  },
  "cells": [
    {
      "cell_type": "code",
      "metadata": {
        "colab": {
          "base_uri": "https://localhost:8080/"
        },
        "id": "_PFwnnb5PQBE",
        "outputId": "33ca4e84-073b-457c-c009-d261907a5bf8"
      },
      "source": [
        "  from google.colab import drive\r\n",
        "drive.mount('/content/drive')"
      ],
      "execution_count": 8,
      "outputs": [
        {
          "output_type": "stream",
          "text": [
            "Drive already mounted at /content/drive; to attempt to forcibly remount, call drive.mount(\"/content/drive\", force_remount=True).\n"
          ],
          "name": "stdout"
        }
      ]
    },
    {
      "cell_type": "code",
      "metadata": {
        "id": "FFNVIFDsPnzE"
      },
      "source": [
        "import numpy as np\r\n",
        "import torch\r\n",
        "import torch.nn as nn\r\n",
        "import torch.nn.functional as F\r\n",
        "import torch.optim as optim"
      ],
      "execution_count": 9,
      "outputs": []
    },
    {
      "cell_type": "code",
      "metadata": {
        "id": "YV_wwiPDQpeD"
      },
      "source": [
        "# embeddings_dict = {}\r\n",
        "# with open(\"/content/drive/MyDrive/glove.twitter.27B.50d.txt\", 'r') as f:\r\n",
        "#     for line in f:\r\n",
        "#         values = line.split()\r\n",
        "#         word = values[0]\r\n",
        "#         vector = np.asarray(values[1:], \"float32\")\r\n",
        "#         embeddings_dict[word] = vector\r\n"
      ],
      "execution_count": 10,
      "outputs": []
    },
    {
      "cell_type": "code",
      "metadata": {
        "id": "w9b41F87QSsD"
      },
      "source": [
        "f = open(\"/content/drive/MyDrive/dog.txt\", \"r\",encoding='cp1252')\r\n",
        "utext = f.read()"
      ],
      "execution_count": 13,
      "outputs": []
    },
    {
      "cell_type": "code",
      "metadata": {
        "colab": {
          "base_uri": "https://localhost:8080/"
        },
        "id": "M6vneyld4lhl",
        "outputId": "447b34e2-2fe5-40cd-e199-e790afb3a391"
      },
      "source": [
        "utext = list(utext)\r\n",
        "utext_tmp=[]\r\n",
        "for i in utext:\r\n",
        "  if not (64<ord(i)<91 or 96<ord(i)<123):\r\n",
        "    utext_tmp.append(' ')\r\n",
        "    utext_tmp.append(i)\r\n",
        "    utext_tmp.append(' ')\r\n",
        "  else:\r\n",
        "   utext_tmp.append(i)\r\n",
        "utext=''\r\n",
        "for i in utext_tmp:\r\n",
        "  utext+=i\r\n",
        "print(utext)"
      ],
      "execution_count": 14,
      "outputs": [
        {
          "output_type": "stream",
          "text": [
            "A   dog   has   a   strong   power   of   smell .    They   are   more   liked   by   people   because   of   their   faithfulness .    They   are   intelligent ,    they   are   watchfulness .    The   dogs   have   many   colors   such   as   grey ,    white ,    black ,    brown   and   red .    They   are   of   many   kinds   such   as   bloodhound ,    greyhound ,    german   shepherd ,    Labrador ,    Rottweiler ,    bulldog   poodle ,    etc .  \n",
            "  \n",
            " Usually ,    the   dog   eats   fish ,    meat ,    milk ,    rice ,    bread ,    etc .    Dogs   are   sometimes   called   canines .    Dogs   are   sometimes   referred   to   as   man ’ s   best   friend   because   they   are   kept   as   domestic   pets   and   are   usually   loyal   and   like   being   around   humans .    They   are   also   helpful   in   reducing   stress ,    anxiety ,    and   depression ,    loneliness ,    encourage   exercise   and   playfulness   and   even   improve   your   cardiovascular   health .    A   dog   also   provides   valuable   companionship   for   older   adults .  \n",
            "  \n",
            " The   dogs   are   so   loyal   to   his   master   that   nothing   can   induce   him   to   leave   his   master .    His   master   might   be   a   poor   man   or   even   a   beggar   but   still ,    the   dog   will   not   leave   his   master   from   far   off .    Dogs   see   their   master   coming   home   from   work   they   rush   to   them   and   jump   on   them   to   show   their   love .    Dogs   are   honest   friends   who   are   always   ready   to   die   to   save   a   friend .    It   can   bite   a   thief   or   stranger   when   they   ignore   its   barking   and   try   to   mischief .    Dogs   always   give   security   to   the   owner   day   and   night . \n"
          ],
          "name": "stdout"
        }
      ]
    },
    {
      "cell_type": "code",
      "metadata": {
        "id": "vmNsuZVM9XiO"
      },
      "source": [
        "\r\n",
        "text=''\r\n",
        "for i in range(len(utext)):\r\n",
        "    text+=utext[i].lower()\r\n"
      ],
      "execution_count": 15,
      "outputs": []
    },
    {
      "cell_type": "code",
      "metadata": {
        "colab": {
          "base_uri": "https://localhost:8080/"
        },
        "id": "zxYCnhD8QWyU",
        "outputId": "783f9a78-593f-4377-e732-721601883b71"
      },
      "source": [
        "#1, 2, 3, 4, 5, 6, 7, 8, 9, 10, 11, 2, 12, 13, 14, 15, 16, 17, 2, 12, 18, 19, 20, 21, 22, 2, 23, 24, 4, 25, 26, 27, 11, 28, 29, 30, 31, 32, 33, 26, 34, 31,\r\n",
        "#'the': 0, 'story': 1, 'a': 2, 'letter': 3, 'to': 4, 'god': 5, 'by': 6, 'fuentes': 7, 'depicts': 8, 'unwavering': 9, 'faith': 10, 'of': 11, 'farmer': 12, 'in': 13, 'god.': 14, 'it': 15, 'begins': 16, 'with': 17, ',': 18, 'named': 19, 'lencho': 20, 'expecting': 21, 'for': 22, 'rain': 23, 'shower'\r\n",
        "split_text = text.split()\r\n",
        "print(len(split_text))\r\n",
        "names = split_text[:-1]\r\n",
        "print(len(names))\r\n",
        "print(names)"
      ],
      "execution_count": 16,
      "outputs": [
        {
          "output_type": "stream",
          "text": [
            "262\n",
            "261\n",
            "['a', 'dog', 'has', 'a', 'strong', 'power', 'of', 'smell', '.', 'they', 'are', 'more', 'liked', 'by', 'people', 'because', 'of', 'their', 'faithfulness', '.', 'they', 'are', 'intelligent', ',', 'they', 'are', 'watchfulness', '.', 'the', 'dogs', 'have', 'many', 'colors', 'such', 'as', 'grey', ',', 'white', ',', 'black', ',', 'brown', 'and', 'red', '.', 'they', 'are', 'of', 'many', 'kinds', 'such', 'as', 'bloodhound', ',', 'greyhound', ',', 'german', 'shepherd', ',', 'labrador', ',', 'rottweiler', ',', 'bulldog', 'poodle', ',', 'etc', '.', 'usually', ',', 'the', 'dog', 'eats', 'fish', ',', 'meat', ',', 'milk', ',', 'rice', ',', 'bread', ',', 'etc', '.', 'dogs', 'are', 'sometimes', 'called', 'canines', '.', 'dogs', 'are', 'sometimes', 'referred', 'to', 'as', 'man', '’', 's', 'best', 'friend', 'because', 'they', 'are', 'kept', 'as', 'domestic', 'pets', 'and', 'are', 'usually', 'loyal', 'and', 'like', 'being', 'around', 'humans', '.', 'they', 'are', 'also', 'helpful', 'in', 'reducing', 'stress', ',', 'anxiety', ',', 'and', 'depression', ',', 'loneliness', ',', 'encourage', 'exercise', 'and', 'playfulness', 'and', 'even', 'improve', 'your', 'cardiovascular', 'health', '.', 'a', 'dog', 'also', 'provides', 'valuable', 'companionship', 'for', 'older', 'adults', '.', 'the', 'dogs', 'are', 'so', 'loyal', 'to', 'his', 'master', 'that', 'nothing', 'can', 'induce', 'him', 'to', 'leave', 'his', 'master', '.', 'his', 'master', 'might', 'be', 'a', 'poor', 'man', 'or', 'even', 'a', 'beggar', 'but', 'still', ',', 'the', 'dog', 'will', 'not', 'leave', 'his', 'master', 'from', 'far', 'off', '.', 'dogs', 'see', 'their', 'master', 'coming', 'home', 'from', 'work', 'they', 'rush', 'to', 'them', 'and', 'jump', 'on', 'them', 'to', 'show', 'their', 'love', '.', 'dogs', 'are', 'honest', 'friends', 'who', 'are', 'always', 'ready', 'to', 'die', 'to', 'save', 'a', 'friend', '.', 'it', 'can', 'bite', 'a', 'thief', 'or', 'stranger', 'when', 'they', 'ignore', 'its', 'barking', 'and', 'try', 'to', 'mischief', '.', 'dogs', 'always', 'give', 'security', 'to', 'the', 'owner', 'day', 'and', 'night']\n"
          ],
          "name": "stdout"
        }
      ]
    },
    {
      "cell_type": "code",
      "metadata": {
        "id": "UUUuRNfEQ7Qe"
      },
      "source": [
        "# name_dict = {}\r\n",
        "# for i in range(len(split_text)-1):\r\n",
        "#     name_dict[split_text[i]] = embeddings_dict[split_text[i]]"
      ],
      "execution_count": 17,
      "outputs": []
    },
    {
      "cell_type": "code",
      "metadata": {
        "colab": {
          "base_uri": "https://localhost:8080/"
        },
        "id": "YHHLjOWKScAL",
        "outputId": "eeba3b21-df73-4475-8eeb-4591135afe70"
      },
      "source": [
        "target_text = list(dict.fromkeys(split_text))\r\n",
        "target={}\r\n",
        "for n,i in enumerate(range(len(target_text))):\r\n",
        "    target[target_text[i]] = n\r\n",
        "print(target)"
      ],
      "execution_count": 18,
      "outputs": [
        {
          "output_type": "stream",
          "text": [
            "{'a': 0, 'dog': 1, 'has': 2, 'strong': 3, 'power': 4, 'of': 5, 'smell': 6, '.': 7, 'they': 8, 'are': 9, 'more': 10, 'liked': 11, 'by': 12, 'people': 13, 'because': 14, 'their': 15, 'faithfulness': 16, 'intelligent': 17, ',': 18, 'watchfulness': 19, 'the': 20, 'dogs': 21, 'have': 22, 'many': 23, 'colors': 24, 'such': 25, 'as': 26, 'grey': 27, 'white': 28, 'black': 29, 'brown': 30, 'and': 31, 'red': 32, 'kinds': 33, 'bloodhound': 34, 'greyhound': 35, 'german': 36, 'shepherd': 37, 'labrador': 38, 'rottweiler': 39, 'bulldog': 40, 'poodle': 41, 'etc': 42, 'usually': 43, 'eats': 44, 'fish': 45, 'meat': 46, 'milk': 47, 'rice': 48, 'bread': 49, 'sometimes': 50, 'called': 51, 'canines': 52, 'referred': 53, 'to': 54, 'man': 55, '’': 56, 's': 57, 'best': 58, 'friend': 59, 'kept': 60, 'domestic': 61, 'pets': 62, 'loyal': 63, 'like': 64, 'being': 65, 'around': 66, 'humans': 67, 'also': 68, 'helpful': 69, 'in': 70, 'reducing': 71, 'stress': 72, 'anxiety': 73, 'depression': 74, 'loneliness': 75, 'encourage': 76, 'exercise': 77, 'playfulness': 78, 'even': 79, 'improve': 80, 'your': 81, 'cardiovascular': 82, 'health': 83, 'provides': 84, 'valuable': 85, 'companionship': 86, 'for': 87, 'older': 88, 'adults': 89, 'so': 90, 'his': 91, 'master': 92, 'that': 93, 'nothing': 94, 'can': 95, 'induce': 96, 'him': 97, 'leave': 98, 'might': 99, 'be': 100, 'poor': 101, 'or': 102, 'beggar': 103, 'but': 104, 'still': 105, 'will': 106, 'not': 107, 'from': 108, 'far': 109, 'off': 110, 'see': 111, 'coming': 112, 'home': 113, 'work': 114, 'rush': 115, 'them': 116, 'jump': 117, 'on': 118, 'show': 119, 'love': 120, 'honest': 121, 'friends': 122, 'who': 123, 'always': 124, 'ready': 125, 'die': 126, 'save': 127, 'it': 128, 'bite': 129, 'thief': 130, 'stranger': 131, 'when': 132, 'ignore': 133, 'its': 134, 'barking': 135, 'try': 136, 'mischief': 137, 'give': 138, 'security': 139, 'owner': 140, 'day': 141, 'night': 142}\n"
          ],
          "name": "stdout"
        }
      ]
    },
    {
      "cell_type": "code",
      "metadata": {
        "colab": {
          "base_uri": "https://localhost:8080/"
        },
        "id": "tyOnJjfZuOPF",
        "outputId": "00f0b650-89b3-4564-f91e-da45db788a57"
      },
      "source": [
        "# name_list = np.array(list(name_dict.values()))\r\n",
        "# print(name_list.shape)\r\n",
        "# print(len(name_dict))"
      ],
      "execution_count": null,
      "outputs": [
        {
          "output_type": "stream",
          "text": [
            "(17, 50)\n",
            "17\n"
          ],
          "name": "stdout"
        }
      ]
    },
    {
      "cell_type": "code",
      "metadata": {
        "id": "pUasKS9Sugk_"
      },
      "source": [
        "target_list = []\r\n",
        "for i in split_text:\r\n",
        "    target_list.append(target[i])\r\n",
        "input_list = target_list[:-1]\r\n",
        "target_list = target_list[1:]"
      ],
      "execution_count": 19,
      "outputs": []
    },
    {
      "cell_type": "code",
      "metadata": {
        "colab": {
          "base_uri": "https://localhost:8080/"
        },
        "id": "gjSGUqz3wpK_",
        "outputId": "292f246e-6676-4da4-f346-fef801e76a37"
      },
      "source": [
        "print(target_list)"
      ],
      "execution_count": 20,
      "outputs": [
        {
          "output_type": "stream",
          "text": [
            "[1, 2, 0, 3, 4, 5, 6, 7, 8, 9, 10, 11, 12, 13, 14, 5, 15, 16, 7, 8, 9, 17, 18, 8, 9, 19, 7, 20, 21, 22, 23, 24, 25, 26, 27, 18, 28, 18, 29, 18, 30, 31, 32, 7, 8, 9, 5, 23, 33, 25, 26, 34, 18, 35, 18, 36, 37, 18, 38, 18, 39, 18, 40, 41, 18, 42, 7, 43, 18, 20, 1, 44, 45, 18, 46, 18, 47, 18, 48, 18, 49, 18, 42, 7, 21, 9, 50, 51, 52, 7, 21, 9, 50, 53, 54, 26, 55, 56, 57, 58, 59, 14, 8, 9, 60, 26, 61, 62, 31, 9, 43, 63, 31, 64, 65, 66, 67, 7, 8, 9, 68, 69, 70, 71, 72, 18, 73, 18, 31, 74, 18, 75, 18, 76, 77, 31, 78, 31, 79, 80, 81, 82, 83, 7, 0, 1, 68, 84, 85, 86, 87, 88, 89, 7, 20, 21, 9, 90, 63, 54, 91, 92, 93, 94, 95, 96, 97, 54, 98, 91, 92, 7, 91, 92, 99, 100, 0, 101, 55, 102, 79, 0, 103, 104, 105, 18, 20, 1, 106, 107, 98, 91, 92, 108, 109, 110, 7, 21, 111, 15, 92, 112, 113, 108, 114, 8, 115, 54, 116, 31, 117, 118, 116, 54, 119, 15, 120, 7, 21, 9, 121, 122, 123, 9, 124, 125, 54, 126, 54, 127, 0, 59, 7, 128, 95, 129, 0, 130, 102, 131, 132, 8, 133, 134, 135, 31, 136, 54, 137, 7, 21, 124, 138, 139, 54, 20, 140, 141, 31, 142, 7]\n"
          ],
          "name": "stdout"
        }
      ]
    },
    {
      "cell_type": "code",
      "metadata": {
        "colab": {
          "base_uri": "https://localhost:8080/"
        },
        "id": "7v5JpjkVzK3N",
        "outputId": "91e6f293-c854-406a-d2d7-519436d0bac4"
      },
      "source": [
        "# input_vector = []\r\n",
        "# for i in names:\r\n",
        "#     input_vector.append(name_dict[i])\r\n",
        "# input_vector = np.array(input_vector)\r\n",
        "# print(input_vector.shape)\r\n"
      ],
      "execution_count": null,
      "outputs": [
        {
          "output_type": "stream",
          "text": [
            "(301, 50)\n"
          ],
          "name": "stdout"
        }
      ]
    },
    {
      "cell_type": "code",
      "metadata": {
        "colab": {
          "base_uri": "https://localhost:8080/"
        },
        "id": "mf_5xLdx5-ff",
        "outputId": "9cb92690-15d6-4719-a533-56230c74faea"
      },
      "source": [
        "input_vector = torch.Tensor(input_list)\r\n",
        "# input_vector = input_vector.unsqueeze(0)\r\n",
        "target_vector = torch.Tensor(target_list)\r\n",
        "print(input_vector.shape)\r\n",
        "print(target_vector.shape)"
      ],
      "execution_count": 21,
      "outputs": [
        {
          "output_type": "stream",
          "text": [
            "torch.Size([261])\n",
            "torch.Size([261])\n"
          ],
          "name": "stdout"
        }
      ]
    },
    {
      "cell_type": "code",
      "metadata": {
        "id": "lTZ1oK9p0VeQ"
      },
      "source": [
        "class RNN(nn.Module):\r\n",
        "\r\n",
        "    def __init__(self, dict_size, embed_dim, input_size, hidden_size, output_size):\r\n",
        "        self.hidden_size = hidden_size\r\n",
        "        super().__init__()\r\n",
        "        self.embed = nn.Embedding(dict_size, embed_dim)\r\n",
        "        self.lstm = nn.LSTM(input_size, hidden_size,batch_first=True)\r\n",
        "        self.fc1 = nn.Linear(hidden_size, hidden_size) \r\n",
        "        self.fc2 = nn.Linear(hidden_size, output_size)\r\n",
        "      \r\n",
        "    def forward(self, x, h0, c0):\r\n",
        "        x = x.long()\r\n",
        "        x = self.embed(x)\r\n",
        "        if \r\n",
        "        x = x.unsqueeze(0)\r\n",
        "        x,a = self.lstm(x, (h0, c0))\r\n",
        "        h, c = a\r\n",
        "        x = torch.tanh(x)\r\n",
        "        x = self.fc1(x)\r\n",
        "        x = self.fc2(x)\r\n",
        "        return x,(h,c)        \r\n",
        "        \r\n",
        "\r\n",
        "    def initHidden(self):\r\n",
        "        return (torch.zeros(1,1,self.hidden_size),torch.zeros(1,1,self.hidden_size))\r\n",
        "    \r\n",
        "\r\n"
      ],
      "execution_count": 22,
      "outputs": []
    },
    {
      "cell_type": "code",
      "metadata": {
        "colab": {
          "base_uri": "https://localhost:8080/"
        },
        "id": "dCGItJ_z5YBf",
        "outputId": "76f309cc-8345-473f-9a27-147fb672ef52"
      },
      "source": [
        "vocab_size = len(target)\r\n",
        "print(vocab_size)\r\n",
        "embed_dim = 50\r\n",
        "input_size = 50\r\n",
        "hidden_size = vocab_size//4\r\n",
        "output_size = vocab_size\r\n",
        "learning_rate = 0.001\r\n",
        "\r\n",
        "criterion = nn.CrossEntropyLoss()\r\n",
        "model = RNN(vocab_size, embed_dim, input_size, hidden_size, output_size)\r\n",
        "optimizer = optim.Adam(model.parameters(),lr=learning_rate)\r\n",
        "print(model)"
      ],
      "execution_count": 23,
      "outputs": [
        {
          "output_type": "stream",
          "text": [
            "143\n",
            "RNN(\n",
            "  (embed): Embedding(143, 50)\n",
            "  (lstm): LSTM(50, 35, batch_first=True)\n",
            "  (fc1): Linear(in_features=35, out_features=35, bias=True)\n",
            "  (fc2): Linear(in_features=35, out_features=143, bias=True)\n",
            ")\n"
          ],
          "name": "stdout"
        }
      ]
    },
    {
      "cell_type": "code",
      "metadata": {
        "colab": {
          "base_uri": "https://localhost:8080/"
        },
        "id": "6V9uzQGu5kex",
        "outputId": "08f75114-1c9b-48ba-b1f9-46ed923060a2"
      },
      "source": [
        "for epochs in range(3):\r\n",
        "  for i in range(87):  \r\n",
        "    h0,c0 = model.initHidden()\r\n",
        "    out,state = model.forward(input_vector[0*i:87*(i+1)],h0, c0)\r\n",
        "    out = out.reshape(-1, output_size)\r\n",
        "    loss = criterion(out, target_vector[0*i:87*(i+1)].long())\r\n",
        "    loss.backward()\r\n",
        "    optimizer.step()\r\n",
        "    # if epochs%100==0:\r\n",
        "    # print(epochs+1,\" \",loss.item())\r\n",
        "  print(epochs+1,\" \",loss.item())"
      ],
      "execution_count": 25,
      "outputs": [
        {
          "output_type": "stream",
          "text": [
            "1   1.9734883308410645\n",
            "2   0.5055533647537231\n",
            "3   0.1524638831615448\n"
          ],
          "name": "stdout"
        }
      ]
    },
    {
      "cell_type": "code",
      "metadata": {
        "id": "hA-_xHFsGSTY",
        "colab": {
          "base_uri": "https://localhost:8080/"
        },
        "outputId": "2d2a4e44-7f23-4e1f-e0ab-b3c7f575a47c"
      },
      "source": [
        "u = list(target.keys())\r\n",
        "print(u)"
      ],
      "execution_count": 26,
      "outputs": [
        {
          "output_type": "stream",
          "text": [
            "['a', 'dog', 'has', 'strong', 'power', 'of', 'smell', '.', 'they', 'are', 'more', 'liked', 'by', 'people', 'because', 'their', 'faithfulness', 'intelligent', ',', 'watchfulness', 'the', 'dogs', 'have', 'many', 'colors', 'such', 'as', 'grey', 'white', 'black', 'brown', 'and', 'red', 'kinds', 'bloodhound', 'greyhound', 'german', 'shepherd', 'labrador', 'rottweiler', 'bulldog', 'poodle', 'etc', 'usually', 'eats', 'fish', 'meat', 'milk', 'rice', 'bread', 'sometimes', 'called', 'canines', 'referred', 'to', 'man', '’', 's', 'best', 'friend', 'kept', 'domestic', 'pets', 'loyal', 'like', 'being', 'around', 'humans', 'also', 'helpful', 'in', 'reducing', 'stress', 'anxiety', 'depression', 'loneliness', 'encourage', 'exercise', 'playfulness', 'even', 'improve', 'your', 'cardiovascular', 'health', 'provides', 'valuable', 'companionship', 'for', 'older', 'adults', 'so', 'his', 'master', 'that', 'nothing', 'can', 'induce', 'him', 'leave', 'might', 'be', 'poor', 'or', 'beggar', 'but', 'still', 'will', 'not', 'from', 'far', 'off', 'see', 'coming', 'home', 'work', 'rush', 'them', 'jump', 'on', 'show', 'love', 'honest', 'friends', 'who', 'always', 'ready', 'die', 'save', 'it', 'bite', 'thief', 'stranger', 'when', 'ignore', 'its', 'barking', 'try', 'mischief', 'give', 'security', 'owner', 'day', 'night']\n"
          ],
          "name": "stdout"
        }
      ]
    },
    {
      "cell_type": "code",
      "metadata": {
        "colab": {
          "base_uri": "https://localhost:8080/"
        },
        "id": "ULuXtGfiD7Ff",
        "outputId": "03f0dadb-7031-4c20-b6e6-a0bf61a7cc24"
      },
      "source": [
        "# for i in range(50):\r\n",
        "with torch.no_grad():\r\n",
        "        h,c = model.initHidden()\r\n",
        "        print()\r\n",
        "        lis=[]\r\n",
        "        \r\n",
        "        x = torch.Tensor(target['dog'])\r\n",
        "        lis.append(target['dog'])\r\n",
        "        # x = x.view(1,-1)\r\n",
        "        output,state = model.forward(x,h,c)\r\n",
        "        h, c = state\r\n",
        "        output = F.softmax(output,dim=2)\r\n",
        "        et = torch.argmax(output)\r\n",
        "        lis.append(et)\r\n",
        "        x = target[u[et]]\r\n",
        "        x = torch.tensor(x)\r\n",
        "        x = x.view(1)\r\n",
        "        for i in range(100):\r\n",
        "            output,state = model.forward(x,h,c)\r\n",
        "            h,c = state\r\n",
        "            output = F.softmax(output,dim=2)\r\n",
        "            et = torch.argmax(output)\r\n",
        "            x = target[u[et]]\r\n",
        "            x = torch.tensor(x)\r\n",
        "            x = x.view(1)\r\n",
        "            lis.append(et)\r\n",
        "#         print(lis)\r\n",
        "        "
      ],
      "execution_count": 45,
      "outputs": [
        {
          "output_type": "stream",
          "text": [
            "\n"
          ],
          "name": "stdout"
        }
      ]
    },
    {
      "cell_type": "code",
      "metadata": {
        "colab": {
          "base_uri": "https://localhost:8080/"
        },
        "id": "_PO3KQvDGlZl",
        "outputId": "032bf870-546a-4195-c095-66a29fc14cdb"
      },
      "source": [
        "x.view(1)"
      ],
      "execution_count": 42,
      "outputs": [
        {
          "output_type": "execute_result",
          "data": {
            "text/plain": [
              "tensor([1])"
            ]
          },
          "metadata": {
            "tags": []
          },
          "execution_count": 42
        }
      ]
    },
    {
      "cell_type": "code",
      "metadata": {
        "colab": {
          "base_uri": "https://localhost:8080/"
        },
        "id": "3GXhhapVHhlo",
        "outputId": "0c1040dc-35ec-4842-a1ef-b5a7b1177e77"
      },
      "source": [
        "v = list(target.keys())\r\n",
        "for i in lis:\r\n",
        "    print(v[i],end=' ')\r\n"
      ],
      "execution_count": 46,
      "outputs": [
        {
          "output_type": "stream",
          "text": [
            "dog dog has a strong power of smell . they are watchfulness . dogs see their master coming home from work they rush to them and jump on them to show their love . dogs are so loyal to his master that nothing can induce him to leave his master from far off . dogs see their master coming home from work they rush to them and jump on them to show their love . dogs are so loyal to his master that nothing can induce him to leave his master from far off . dogs see their master coming home from "
          ],
          "name": "stdout"
        }
      ]
    },
    {
      "cell_type": "code",
      "metadata": {
        "id": "Bqw1HgS8MTON",
        "colab": {
          "base_uri": "https://localhost:8080/"
        },
        "outputId": "04fca1fb-c857-4479-de07-f9a33b7bf427"
      },
      "source": [
        "x"
      ],
      "execution_count": 32,
      "outputs": [
        {
          "output_type": "execute_result",
          "data": {
            "text/plain": [
              "tensor(1)"
            ]
          },
          "metadata": {
            "tags": []
          },
          "execution_count": 32
        }
      ]
    },
    {
      "cell_type": "code",
      "metadata": {
        "id": "2J4u702Dt9I4"
      },
      "source": [
        ""
      ],
      "execution_count": null,
      "outputs": []
    }
  ]
}